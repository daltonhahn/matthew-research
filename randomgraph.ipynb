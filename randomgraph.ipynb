{
 "cells": [
  {
   "cell_type": "code",
   "execution_count": 9,
   "id": "e4a7778b",
   "metadata": {},
   "outputs": [],
   "source": [
    "import plotly.graph_objects as go\n",
    "import networkx as nx\n",
    "\n",
    "\n",
    "\n",
    "def createRandomNodeGraph(numnodes:int):\n",
    "    \n",
    "    G = nx.random_geometric_graph(numnodes, 0.25)\n",
    "    \n",
    "    edge_x = []\n",
    "    edge_y = []\n",
    "    for edge in G.edges():\n",
    "        x0, y0 = G.nodes[edge[0]]['pos']\n",
    "        x1, y1 = G.nodes[edge[1]]['pos']\n",
    "        edge_x.append(x0)\n",
    "        edge_x.append(x1)\n",
    "        edge_x.append(None)\n",
    "        edge_y.append(y0)\n",
    "        edge_y.append(y1)\n",
    "        edge_y.append(None)\n",
    "\n",
    "    edge_trace = go.Scatter(\n",
    "        x=edge_x, y=edge_y,\n",
    "        line=dict(width=0.5, color='#888'),\n",
    "        hoverinfo='none',\n",
    "        mode='lines')\n",
    "\n",
    "    node_x = []\n",
    "    node_y = []\n",
    "    for node in G.nodes():\n",
    "        x, y = G.nodes[node]['pos']\n",
    "        node_x.append(x)\n",
    "        node_y.append(y)\n",
    "\n",
    "    node_trace = go.Scatter(\n",
    "        x=node_x, y=node_y,\n",
    "        mode='markers',\n",
    "        hoverinfo='text',\n",
    "        marker=dict(\n",
    "            showscale=True,\n",
    "            # colorscale options\n",
    "            #'Greys' | 'YlGnBu' | 'Greens' | 'YlOrRd' | 'Bluered' | 'RdBu' |\n",
    "            #'Reds' | 'Blues' | 'Picnic' | 'Rainbow' | 'Portland' | 'Jet' |\n",
    "            #'Hot' | 'Blackbody' | 'Earth' | 'Electric' | 'Viridis' |\n",
    "            colorscale='Earth',\n",
    "            reversescale=True,\n",
    "            color=[],\n",
    "            size=10,\n",
    "            colorbar=dict(\n",
    "                thickness=15,\n",
    "                title='Node Connections',\n",
    "                xanchor='left',\n",
    "                titleside='right'\n",
    "            ),\n",
    "            line_width=2))\n",
    "    node_adjacencies = []\n",
    "    \n",
    "    node_text = []\n",
    "    for node, adjacencies in enumerate(G.adjacency()):\n",
    "        node_adjacencies.append(len(adjacencies[1]))\n",
    "        node_text.append('# of connections: '+str(len(adjacencies[1])))\n",
    "\n",
    "    node_trace.marker.color = node_adjacencies\n",
    "    node_trace.text = node_text\n",
    "    \n",
    "    fig = go.Figure(data=[edge_trace, node_trace],\n",
    "             layout=go.Layout(\n",
    "                title='<br>Network graph made with Python',\n",
    "                titlefont_size=16,\n",
    "                showlegend=False,\n",
    "                hovermode='closest',\n",
    "                margin=dict(b=20,l=5,r=5,t=40),\n",
    "                annotations=[ dict(\n",
    "                    showarrow=False,\n",
    "                    xref=\"paper\", yref=\"paper\",\n",
    "                    x=0.005, y=-0.002 ) ],\n",
    "                xaxis=dict(showgrid=False, zeroline=False, showticklabels=False),\n",
    "                yaxis=dict(showgrid=False, zeroline=False, showticklabels=False))\n",
    "                )\n",
    "    fig.show()\n",
    "    return\n"
   ]
  },
  {
   "cell_type": "code",
   "execution_count": 10,
   "id": "ef58afb0",
   "metadata": {},
   "outputs": [
    {
     "name": "stdout",
     "output_type": "stream",
     "text": [
      "How many nodes would you like in this graph?: 25\n"
     ]
    },
    {
     "data": {
      "application/vnd.plotly.v1+json": {
       "config": {
        "plotlyServerURL": "https://plot.ly"
       },
       "data": [
        {
         "hoverinfo": "none",
         "line": {
          "color": "#888",
          "width": 0.5
         },
         "mode": "lines",
         "type": "scatter",
         "x": [
          0.680893097336292,
          0.5388984860907969,
          null,
          0.680893097336292,
          0.529307180924526,
          null,
          0.680893097336292,
          0.8021956435811151,
          null,
          0.680893097336292,
          0.8619657591913444,
          null,
          0.680893097336292,
          0.7779955810146476,
          null,
          0.5388984860907969,
          0.529307180924526,
          null,
          0.09555991349567017,
          0.07337624961026012,
          null,
          0.09555991349567017,
          0.1374385732208161,
          null,
          0.6509181068008552,
          0.676918167376344,
          null,
          0.6509181068008552,
          0.7106652735491479,
          null,
          0.6509181068008552,
          0.8021956435811151,
          null,
          0.6509181068008552,
          0.6813744795901913,
          null,
          0.6509181068008552,
          0.7779955810146476,
          null,
          0.4641690140319612,
          0.3613781851768705,
          null,
          0.07337624961026012,
          0.1374385732208161,
          null,
          0.07337624961026012,
          0.11478257730072261,
          null,
          0.07337624961026012,
          0.2728665566681041,
          null,
          0.1374385732208161,
          0.11478257730072261,
          null,
          0.1374385732208161,
          0.2728665566681041,
          null,
          0.676918167376344,
          0.7106652735491479,
          null,
          0.676918167376344,
          0.8021956435811151,
          null,
          0.676918167376344,
          0.6813744795901913,
          null,
          0.676918167376344,
          0.7779955810146476,
          null,
          0.11478257730072261,
          0.2728665566681041,
          null,
          0.8925723561239908,
          0.80917927773198,
          null,
          0.8925723561239908,
          0.7106652735491479,
          null,
          0.8925723561239908,
          0.9614941322535655,
          null,
          0.8925723561239908,
          0.6813744795901913,
          null,
          0.9168181343156431,
          0.9004981971629004,
          null,
          0.9168181343156431,
          0.9570980520369538,
          null,
          0.9168181343156431,
          0.8619657591913444,
          null,
          0.9168181343156431,
          0.9570475973202661,
          null,
          0.9004981971629004,
          0.9570980520369538,
          null,
          0.9004981971629004,
          0.8619657591913444,
          null,
          0.9004981971629004,
          0.9570475973202661,
          null,
          0.80917927773198,
          0.7106652735491479,
          null,
          0.80917927773198,
          0.9614941322535655,
          null,
          0.80917927773198,
          0.7416608278216819,
          null,
          0.9570980520369538,
          0.8619657591913444,
          null,
          0.9570980520369538,
          0.9570475973202661,
          null,
          0.7106652735491479,
          0.6813744795901913,
          null,
          0.9614941322535655,
          0.7416608278216819,
          null,
          0.8021956435811151,
          0.6813744795901913,
          null,
          0.8021956435811151,
          0.9570475973202661,
          null,
          0.8021956435811151,
          0.7779955810146476,
          null,
          0.8619657591913444,
          0.9570475973202661,
          null,
          0.9570475973202661,
          0.7779955810146476,
          null
         ],
         "y": [
          0.8346062075315306,
          0.78265498336824,
          null,
          0.8346062075315306,
          0.9380144827589986,
          null,
          0.8346062075315306,
          0.6196237164326036,
          null,
          0.8346062075315306,
          0.9262931853964207,
          null,
          0.8346062075315306,
          0.6562828425907077,
          null,
          0.78265498336824,
          0.9380144827589986,
          null,
          0.6316734355745174,
          0.7843301315090625,
          null,
          0.6316734355745174,
          0.7868851422151362,
          null,
          0.5522404245000658,
          0.46305822710062106,
          null,
          0.5522404245000658,
          0.33507829410802914,
          null,
          0.5522404245000658,
          0.6196237164326036,
          null,
          0.5522404245000658,
          0.40555851502270324,
          null,
          0.5522404245000658,
          0.6562828425907077,
          null,
          0.2717464325256401,
          0.4040605331556407,
          null,
          0.7843301315090625,
          0.7868851422151362,
          null,
          0.7843301315090625,
          0.9801722859065438,
          null,
          0.7843301315090625,
          0.9295941218091944,
          null,
          0.7868851422151362,
          0.9801722859065438,
          null,
          0.7868851422151362,
          0.9295941218091944,
          null,
          0.46305822710062106,
          0.33507829410802914,
          null,
          0.46305822710062106,
          0.6196237164326036,
          null,
          0.46305822710062106,
          0.40555851502270324,
          null,
          0.46305822710062106,
          0.6562828425907077,
          null,
          0.9801722859065438,
          0.9295941218091944,
          null,
          0.29788906192406905,
          0.16371254422502857,
          null,
          0.29788906192406905,
          0.33507829410802914,
          null,
          0.29788906192406905,
          0.11415206214178675,
          null,
          0.29788906192406905,
          0.40555851502270324,
          null,
          0.9774235606837954,
          0.9953737757082962,
          null,
          0.9774235606837954,
          0.9809822474603815,
          null,
          0.9774235606837954,
          0.9262931853964207,
          null,
          0.9774235606837954,
          0.7696162094379153,
          null,
          0.9953737757082962,
          0.9809822474603815,
          null,
          0.9953737757082962,
          0.9262931853964207,
          null,
          0.9953737757082962,
          0.7696162094379153,
          null,
          0.16371254422502857,
          0.33507829410802914,
          null,
          0.16371254422502857,
          0.11415206214178675,
          null,
          0.16371254422502857,
          0.043357576698964895,
          null,
          0.9809822474603815,
          0.9262931853964207,
          null,
          0.9809822474603815,
          0.7696162094379153,
          null,
          0.33507829410802914,
          0.40555851502270324,
          null,
          0.11415206214178675,
          0.043357576698964895,
          null,
          0.6196237164326036,
          0.40555851502270324,
          null,
          0.6196237164326036,
          0.7696162094379153,
          null,
          0.6196237164326036,
          0.6562828425907077,
          null,
          0.9262931853964207,
          0.7696162094379153,
          null,
          0.7696162094379153,
          0.6562828425907077,
          null
         ]
        },
        {
         "hoverinfo": "text",
         "marker": {
          "color": [
           5,
           2,
           2,
           5,
           1,
           4,
           2,
           4,
           5,
           3,
           4,
           4,
           4,
           4,
           4,
           5,
           3,
           6,
           3,
           5,
           2,
           5,
           1,
           6,
           5
          ],
          "colorbar": {
           "thickness": 15,
           "title": {
            "side": "right",
            "text": "Node Connections"
           },
           "xanchor": "left"
          },
          "colorscale": [
           [
            0,
            "rgb(161, 105, 40)"
           ],
           [
            0.16666666666666666,
            "rgb(189, 146, 90)"
           ],
           [
            0.3333333333333333,
            "rgb(214, 189, 141)"
           ],
           [
            0.5,
            "rgb(237, 234, 194)"
           ],
           [
            0.6666666666666666,
            "rgb(181, 200, 184)"
           ],
           [
            0.8333333333333334,
            "rgb(121, 167, 172)"
           ],
           [
            1,
            "rgb(40, 135, 161)"
           ]
          ],
          "line": {
           "width": 2
          },
          "reversescale": true,
          "showscale": true,
          "size": 10
         },
         "mode": "markers",
         "text": [
          "# of connections: 5",
          "# of connections: 2",
          "# of connections: 2",
          "# of connections: 5",
          "# of connections: 1",
          "# of connections: 4",
          "# of connections: 2",
          "# of connections: 4",
          "# of connections: 5",
          "# of connections: 3",
          "# of connections: 4",
          "# of connections: 4",
          "# of connections: 4",
          "# of connections: 4",
          "# of connections: 4",
          "# of connections: 5",
          "# of connections: 3",
          "# of connections: 6",
          "# of connections: 3",
          "# of connections: 5",
          "# of connections: 2",
          "# of connections: 5",
          "# of connections: 1",
          "# of connections: 6",
          "# of connections: 5"
         ],
         "type": "scatter",
         "x": [
          0.680893097336292,
          0.5388984860907969,
          0.09555991349567017,
          0.6509181068008552,
          0.4641690140319612,
          0.07337624961026012,
          0.529307180924526,
          0.1374385732208161,
          0.676918167376344,
          0.11478257730072261,
          0.8925723561239908,
          0.9168181343156431,
          0.9004981971629004,
          0.80917927773198,
          0.9570980520369538,
          0.7106652735491479,
          0.9614941322535655,
          0.8021956435811151,
          0.2728665566681041,
          0.6813744795901913,
          0.7416608278216819,
          0.8619657591913444,
          0.3613781851768705,
          0.9570475973202661,
          0.7779955810146476
         ],
         "y": [
          0.8346062075315306,
          0.78265498336824,
          0.6316734355745174,
          0.5522404245000658,
          0.2717464325256401,
          0.7843301315090625,
          0.9380144827589986,
          0.7868851422151362,
          0.46305822710062106,
          0.9801722859065438,
          0.29788906192406905,
          0.9774235606837954,
          0.9953737757082962,
          0.16371254422502857,
          0.9809822474603815,
          0.33507829410802914,
          0.11415206214178675,
          0.6196237164326036,
          0.9295941218091944,
          0.40555851502270324,
          0.043357576698964895,
          0.9262931853964207,
          0.4040605331556407,
          0.7696162094379153,
          0.6562828425907077
         ]
        }
       ],
       "layout": {
        "annotations": [
         {
          "showarrow": false,
          "x": 0.005,
          "xref": "paper",
          "y": -0.002,
          "yref": "paper"
         }
        ],
        "hovermode": "closest",
        "margin": {
         "b": 20,
         "l": 5,
         "r": 5,
         "t": 40
        },
        "showlegend": false,
        "template": {
         "data": {
          "bar": [
           {
            "error_x": {
             "color": "#2a3f5f"
            },
            "error_y": {
             "color": "#2a3f5f"
            },
            "marker": {
             "line": {
              "color": "#E5ECF6",
              "width": 0.5
             },
             "pattern": {
              "fillmode": "overlay",
              "size": 10,
              "solidity": 0.2
             }
            },
            "type": "bar"
           }
          ],
          "barpolar": [
           {
            "marker": {
             "line": {
              "color": "#E5ECF6",
              "width": 0.5
             },
             "pattern": {
              "fillmode": "overlay",
              "size": 10,
              "solidity": 0.2
             }
            },
            "type": "barpolar"
           }
          ],
          "carpet": [
           {
            "aaxis": {
             "endlinecolor": "#2a3f5f",
             "gridcolor": "white",
             "linecolor": "white",
             "minorgridcolor": "white",
             "startlinecolor": "#2a3f5f"
            },
            "baxis": {
             "endlinecolor": "#2a3f5f",
             "gridcolor": "white",
             "linecolor": "white",
             "minorgridcolor": "white",
             "startlinecolor": "#2a3f5f"
            },
            "type": "carpet"
           }
          ],
          "choropleth": [
           {
            "colorbar": {
             "outlinewidth": 0,
             "ticks": ""
            },
            "type": "choropleth"
           }
          ],
          "contour": [
           {
            "colorbar": {
             "outlinewidth": 0,
             "ticks": ""
            },
            "colorscale": [
             [
              0,
              "#0d0887"
             ],
             [
              0.1111111111111111,
              "#46039f"
             ],
             [
              0.2222222222222222,
              "#7201a8"
             ],
             [
              0.3333333333333333,
              "#9c179e"
             ],
             [
              0.4444444444444444,
              "#bd3786"
             ],
             [
              0.5555555555555556,
              "#d8576b"
             ],
             [
              0.6666666666666666,
              "#ed7953"
             ],
             [
              0.7777777777777778,
              "#fb9f3a"
             ],
             [
              0.8888888888888888,
              "#fdca26"
             ],
             [
              1,
              "#f0f921"
             ]
            ],
            "type": "contour"
           }
          ],
          "contourcarpet": [
           {
            "colorbar": {
             "outlinewidth": 0,
             "ticks": ""
            },
            "type": "contourcarpet"
           }
          ],
          "heatmap": [
           {
            "colorbar": {
             "outlinewidth": 0,
             "ticks": ""
            },
            "colorscale": [
             [
              0,
              "#0d0887"
             ],
             [
              0.1111111111111111,
              "#46039f"
             ],
             [
              0.2222222222222222,
              "#7201a8"
             ],
             [
              0.3333333333333333,
              "#9c179e"
             ],
             [
              0.4444444444444444,
              "#bd3786"
             ],
             [
              0.5555555555555556,
              "#d8576b"
             ],
             [
              0.6666666666666666,
              "#ed7953"
             ],
             [
              0.7777777777777778,
              "#fb9f3a"
             ],
             [
              0.8888888888888888,
              "#fdca26"
             ],
             [
              1,
              "#f0f921"
             ]
            ],
            "type": "heatmap"
           }
          ],
          "heatmapgl": [
           {
            "colorbar": {
             "outlinewidth": 0,
             "ticks": ""
            },
            "colorscale": [
             [
              0,
              "#0d0887"
             ],
             [
              0.1111111111111111,
              "#46039f"
             ],
             [
              0.2222222222222222,
              "#7201a8"
             ],
             [
              0.3333333333333333,
              "#9c179e"
             ],
             [
              0.4444444444444444,
              "#bd3786"
             ],
             [
              0.5555555555555556,
              "#d8576b"
             ],
             [
              0.6666666666666666,
              "#ed7953"
             ],
             [
              0.7777777777777778,
              "#fb9f3a"
             ],
             [
              0.8888888888888888,
              "#fdca26"
             ],
             [
              1,
              "#f0f921"
             ]
            ],
            "type": "heatmapgl"
           }
          ],
          "histogram": [
           {
            "marker": {
             "pattern": {
              "fillmode": "overlay",
              "size": 10,
              "solidity": 0.2
             }
            },
            "type": "histogram"
           }
          ],
          "histogram2d": [
           {
            "colorbar": {
             "outlinewidth": 0,
             "ticks": ""
            },
            "colorscale": [
             [
              0,
              "#0d0887"
             ],
             [
              0.1111111111111111,
              "#46039f"
             ],
             [
              0.2222222222222222,
              "#7201a8"
             ],
             [
              0.3333333333333333,
              "#9c179e"
             ],
             [
              0.4444444444444444,
              "#bd3786"
             ],
             [
              0.5555555555555556,
              "#d8576b"
             ],
             [
              0.6666666666666666,
              "#ed7953"
             ],
             [
              0.7777777777777778,
              "#fb9f3a"
             ],
             [
              0.8888888888888888,
              "#fdca26"
             ],
             [
              1,
              "#f0f921"
             ]
            ],
            "type": "histogram2d"
           }
          ],
          "histogram2dcontour": [
           {
            "colorbar": {
             "outlinewidth": 0,
             "ticks": ""
            },
            "colorscale": [
             [
              0,
              "#0d0887"
             ],
             [
              0.1111111111111111,
              "#46039f"
             ],
             [
              0.2222222222222222,
              "#7201a8"
             ],
             [
              0.3333333333333333,
              "#9c179e"
             ],
             [
              0.4444444444444444,
              "#bd3786"
             ],
             [
              0.5555555555555556,
              "#d8576b"
             ],
             [
              0.6666666666666666,
              "#ed7953"
             ],
             [
              0.7777777777777778,
              "#fb9f3a"
             ],
             [
              0.8888888888888888,
              "#fdca26"
             ],
             [
              1,
              "#f0f921"
             ]
            ],
            "type": "histogram2dcontour"
           }
          ],
          "mesh3d": [
           {
            "colorbar": {
             "outlinewidth": 0,
             "ticks": ""
            },
            "type": "mesh3d"
           }
          ],
          "parcoords": [
           {
            "line": {
             "colorbar": {
              "outlinewidth": 0,
              "ticks": ""
             }
            },
            "type": "parcoords"
           }
          ],
          "pie": [
           {
            "automargin": true,
            "type": "pie"
           }
          ],
          "scatter": [
           {
            "fillpattern": {
             "fillmode": "overlay",
             "size": 10,
             "solidity": 0.2
            },
            "type": "scatter"
           }
          ],
          "scatter3d": [
           {
            "line": {
             "colorbar": {
              "outlinewidth": 0,
              "ticks": ""
             }
            },
            "marker": {
             "colorbar": {
              "outlinewidth": 0,
              "ticks": ""
             }
            },
            "type": "scatter3d"
           }
          ],
          "scattercarpet": [
           {
            "marker": {
             "colorbar": {
              "outlinewidth": 0,
              "ticks": ""
             }
            },
            "type": "scattercarpet"
           }
          ],
          "scattergeo": [
           {
            "marker": {
             "colorbar": {
              "outlinewidth": 0,
              "ticks": ""
             }
            },
            "type": "scattergeo"
           }
          ],
          "scattergl": [
           {
            "marker": {
             "colorbar": {
              "outlinewidth": 0,
              "ticks": ""
             }
            },
            "type": "scattergl"
           }
          ],
          "scattermapbox": [
           {
            "marker": {
             "colorbar": {
              "outlinewidth": 0,
              "ticks": ""
             }
            },
            "type": "scattermapbox"
           }
          ],
          "scatterpolar": [
           {
            "marker": {
             "colorbar": {
              "outlinewidth": 0,
              "ticks": ""
             }
            },
            "type": "scatterpolar"
           }
          ],
          "scatterpolargl": [
           {
            "marker": {
             "colorbar": {
              "outlinewidth": 0,
              "ticks": ""
             }
            },
            "type": "scatterpolargl"
           }
          ],
          "scatterternary": [
           {
            "marker": {
             "colorbar": {
              "outlinewidth": 0,
              "ticks": ""
             }
            },
            "type": "scatterternary"
           }
          ],
          "surface": [
           {
            "colorbar": {
             "outlinewidth": 0,
             "ticks": ""
            },
            "colorscale": [
             [
              0,
              "#0d0887"
             ],
             [
              0.1111111111111111,
              "#46039f"
             ],
             [
              0.2222222222222222,
              "#7201a8"
             ],
             [
              0.3333333333333333,
              "#9c179e"
             ],
             [
              0.4444444444444444,
              "#bd3786"
             ],
             [
              0.5555555555555556,
              "#d8576b"
             ],
             [
              0.6666666666666666,
              "#ed7953"
             ],
             [
              0.7777777777777778,
              "#fb9f3a"
             ],
             [
              0.8888888888888888,
              "#fdca26"
             ],
             [
              1,
              "#f0f921"
             ]
            ],
            "type": "surface"
           }
          ],
          "table": [
           {
            "cells": {
             "fill": {
              "color": "#EBF0F8"
             },
             "line": {
              "color": "white"
             }
            },
            "header": {
             "fill": {
              "color": "#C8D4E3"
             },
             "line": {
              "color": "white"
             }
            },
            "type": "table"
           }
          ]
         },
         "layout": {
          "annotationdefaults": {
           "arrowcolor": "#2a3f5f",
           "arrowhead": 0,
           "arrowwidth": 1
          },
          "autotypenumbers": "strict",
          "coloraxis": {
           "colorbar": {
            "outlinewidth": 0,
            "ticks": ""
           }
          },
          "colorscale": {
           "diverging": [
            [
             0,
             "#8e0152"
            ],
            [
             0.1,
             "#c51b7d"
            ],
            [
             0.2,
             "#de77ae"
            ],
            [
             0.3,
             "#f1b6da"
            ],
            [
             0.4,
             "#fde0ef"
            ],
            [
             0.5,
             "#f7f7f7"
            ],
            [
             0.6,
             "#e6f5d0"
            ],
            [
             0.7,
             "#b8e186"
            ],
            [
             0.8,
             "#7fbc41"
            ],
            [
             0.9,
             "#4d9221"
            ],
            [
             1,
             "#276419"
            ]
           ],
           "sequential": [
            [
             0,
             "#0d0887"
            ],
            [
             0.1111111111111111,
             "#46039f"
            ],
            [
             0.2222222222222222,
             "#7201a8"
            ],
            [
             0.3333333333333333,
             "#9c179e"
            ],
            [
             0.4444444444444444,
             "#bd3786"
            ],
            [
             0.5555555555555556,
             "#d8576b"
            ],
            [
             0.6666666666666666,
             "#ed7953"
            ],
            [
             0.7777777777777778,
             "#fb9f3a"
            ],
            [
             0.8888888888888888,
             "#fdca26"
            ],
            [
             1,
             "#f0f921"
            ]
           ],
           "sequentialminus": [
            [
             0,
             "#0d0887"
            ],
            [
             0.1111111111111111,
             "#46039f"
            ],
            [
             0.2222222222222222,
             "#7201a8"
            ],
            [
             0.3333333333333333,
             "#9c179e"
            ],
            [
             0.4444444444444444,
             "#bd3786"
            ],
            [
             0.5555555555555556,
             "#d8576b"
            ],
            [
             0.6666666666666666,
             "#ed7953"
            ],
            [
             0.7777777777777778,
             "#fb9f3a"
            ],
            [
             0.8888888888888888,
             "#fdca26"
            ],
            [
             1,
             "#f0f921"
            ]
           ]
          },
          "colorway": [
           "#636efa",
           "#EF553B",
           "#00cc96",
           "#ab63fa",
           "#FFA15A",
           "#19d3f3",
           "#FF6692",
           "#B6E880",
           "#FF97FF",
           "#FECB52"
          ],
          "font": {
           "color": "#2a3f5f"
          },
          "geo": {
           "bgcolor": "white",
           "lakecolor": "white",
           "landcolor": "#E5ECF6",
           "showlakes": true,
           "showland": true,
           "subunitcolor": "white"
          },
          "hoverlabel": {
           "align": "left"
          },
          "hovermode": "closest",
          "mapbox": {
           "style": "light"
          },
          "paper_bgcolor": "white",
          "plot_bgcolor": "#E5ECF6",
          "polar": {
           "angularaxis": {
            "gridcolor": "white",
            "linecolor": "white",
            "ticks": ""
           },
           "bgcolor": "#E5ECF6",
           "radialaxis": {
            "gridcolor": "white",
            "linecolor": "white",
            "ticks": ""
           }
          },
          "scene": {
           "xaxis": {
            "backgroundcolor": "#E5ECF6",
            "gridcolor": "white",
            "gridwidth": 2,
            "linecolor": "white",
            "showbackground": true,
            "ticks": "",
            "zerolinecolor": "white"
           },
           "yaxis": {
            "backgroundcolor": "#E5ECF6",
            "gridcolor": "white",
            "gridwidth": 2,
            "linecolor": "white",
            "showbackground": true,
            "ticks": "",
            "zerolinecolor": "white"
           },
           "zaxis": {
            "backgroundcolor": "#E5ECF6",
            "gridcolor": "white",
            "gridwidth": 2,
            "linecolor": "white",
            "showbackground": true,
            "ticks": "",
            "zerolinecolor": "white"
           }
          },
          "shapedefaults": {
           "line": {
            "color": "#2a3f5f"
           }
          },
          "ternary": {
           "aaxis": {
            "gridcolor": "white",
            "linecolor": "white",
            "ticks": ""
           },
           "baxis": {
            "gridcolor": "white",
            "linecolor": "white",
            "ticks": ""
           },
           "bgcolor": "#E5ECF6",
           "caxis": {
            "gridcolor": "white",
            "linecolor": "white",
            "ticks": ""
           }
          },
          "title": {
           "x": 0.05
          },
          "xaxis": {
           "automargin": true,
           "gridcolor": "white",
           "linecolor": "white",
           "ticks": "",
           "title": {
            "standoff": 15
           },
           "zerolinecolor": "white",
           "zerolinewidth": 2
          },
          "yaxis": {
           "automargin": true,
           "gridcolor": "white",
           "linecolor": "white",
           "ticks": "",
           "title": {
            "standoff": 15
           },
           "zerolinecolor": "white",
           "zerolinewidth": 2
          }
         }
        },
        "title": {
         "font": {
          "size": 16
         },
         "text": "<br>Network graph made with Python"
        },
        "xaxis": {
         "showgrid": false,
         "showticklabels": false,
         "zeroline": false
        },
        "yaxis": {
         "showgrid": false,
         "showticklabels": false,
         "zeroline": false
        }
       }
      },
      "text/html": [
       "<div>                            <div id=\"886487e6-00ec-4309-b7f8-a3ba53b41829\" class=\"plotly-graph-div\" style=\"height:525px; width:100%;\"></div>            <script type=\"text/javascript\">                require([\"plotly\"], function(Plotly) {                    window.PLOTLYENV=window.PLOTLYENV || {};                                    if (document.getElementById(\"886487e6-00ec-4309-b7f8-a3ba53b41829\")) {                    Plotly.newPlot(                        \"886487e6-00ec-4309-b7f8-a3ba53b41829\",                        [{\"hoverinfo\":\"none\",\"line\":{\"color\":\"#888\",\"width\":0.5},\"mode\":\"lines\",\"x\":[0.680893097336292,0.5388984860907969,null,0.680893097336292,0.529307180924526,null,0.680893097336292,0.8021956435811151,null,0.680893097336292,0.8619657591913444,null,0.680893097336292,0.7779955810146476,null,0.5388984860907969,0.529307180924526,null,0.09555991349567017,0.07337624961026012,null,0.09555991349567017,0.1374385732208161,null,0.6509181068008552,0.676918167376344,null,0.6509181068008552,0.7106652735491479,null,0.6509181068008552,0.8021956435811151,null,0.6509181068008552,0.6813744795901913,null,0.6509181068008552,0.7779955810146476,null,0.4641690140319612,0.3613781851768705,null,0.07337624961026012,0.1374385732208161,null,0.07337624961026012,0.11478257730072261,null,0.07337624961026012,0.2728665566681041,null,0.1374385732208161,0.11478257730072261,null,0.1374385732208161,0.2728665566681041,null,0.676918167376344,0.7106652735491479,null,0.676918167376344,0.8021956435811151,null,0.676918167376344,0.6813744795901913,null,0.676918167376344,0.7779955810146476,null,0.11478257730072261,0.2728665566681041,null,0.8925723561239908,0.80917927773198,null,0.8925723561239908,0.7106652735491479,null,0.8925723561239908,0.9614941322535655,null,0.8925723561239908,0.6813744795901913,null,0.9168181343156431,0.9004981971629004,null,0.9168181343156431,0.9570980520369538,null,0.9168181343156431,0.8619657591913444,null,0.9168181343156431,0.9570475973202661,null,0.9004981971629004,0.9570980520369538,null,0.9004981971629004,0.8619657591913444,null,0.9004981971629004,0.9570475973202661,null,0.80917927773198,0.7106652735491479,null,0.80917927773198,0.9614941322535655,null,0.80917927773198,0.7416608278216819,null,0.9570980520369538,0.8619657591913444,null,0.9570980520369538,0.9570475973202661,null,0.7106652735491479,0.6813744795901913,null,0.9614941322535655,0.7416608278216819,null,0.8021956435811151,0.6813744795901913,null,0.8021956435811151,0.9570475973202661,null,0.8021956435811151,0.7779955810146476,null,0.8619657591913444,0.9570475973202661,null,0.9570475973202661,0.7779955810146476,null],\"y\":[0.8346062075315306,0.78265498336824,null,0.8346062075315306,0.9380144827589986,null,0.8346062075315306,0.6196237164326036,null,0.8346062075315306,0.9262931853964207,null,0.8346062075315306,0.6562828425907077,null,0.78265498336824,0.9380144827589986,null,0.6316734355745174,0.7843301315090625,null,0.6316734355745174,0.7868851422151362,null,0.5522404245000658,0.46305822710062106,null,0.5522404245000658,0.33507829410802914,null,0.5522404245000658,0.6196237164326036,null,0.5522404245000658,0.40555851502270324,null,0.5522404245000658,0.6562828425907077,null,0.2717464325256401,0.4040605331556407,null,0.7843301315090625,0.7868851422151362,null,0.7843301315090625,0.9801722859065438,null,0.7843301315090625,0.9295941218091944,null,0.7868851422151362,0.9801722859065438,null,0.7868851422151362,0.9295941218091944,null,0.46305822710062106,0.33507829410802914,null,0.46305822710062106,0.6196237164326036,null,0.46305822710062106,0.40555851502270324,null,0.46305822710062106,0.6562828425907077,null,0.9801722859065438,0.9295941218091944,null,0.29788906192406905,0.16371254422502857,null,0.29788906192406905,0.33507829410802914,null,0.29788906192406905,0.11415206214178675,null,0.29788906192406905,0.40555851502270324,null,0.9774235606837954,0.9953737757082962,null,0.9774235606837954,0.9809822474603815,null,0.9774235606837954,0.9262931853964207,null,0.9774235606837954,0.7696162094379153,null,0.9953737757082962,0.9809822474603815,null,0.9953737757082962,0.9262931853964207,null,0.9953737757082962,0.7696162094379153,null,0.16371254422502857,0.33507829410802914,null,0.16371254422502857,0.11415206214178675,null,0.16371254422502857,0.043357576698964895,null,0.9809822474603815,0.9262931853964207,null,0.9809822474603815,0.7696162094379153,null,0.33507829410802914,0.40555851502270324,null,0.11415206214178675,0.043357576698964895,null,0.6196237164326036,0.40555851502270324,null,0.6196237164326036,0.7696162094379153,null,0.6196237164326036,0.6562828425907077,null,0.9262931853964207,0.7696162094379153,null,0.7696162094379153,0.6562828425907077,null],\"type\":\"scatter\"},{\"hoverinfo\":\"text\",\"marker\":{\"color\":[5,2,2,5,1,4,2,4,5,3,4,4,4,4,4,5,3,6,3,5,2,5,1,6,5],\"colorbar\":{\"thickness\":15,\"title\":{\"side\":\"right\",\"text\":\"Node Connections\"},\"xanchor\":\"left\"},\"colorscale\":[[0.0,\"rgb(161, 105, 40)\"],[0.16666666666666666,\"rgb(189, 146, 90)\"],[0.3333333333333333,\"rgb(214, 189, 141)\"],[0.5,\"rgb(237, 234, 194)\"],[0.6666666666666666,\"rgb(181, 200, 184)\"],[0.8333333333333334,\"rgb(121, 167, 172)\"],[1.0,\"rgb(40, 135, 161)\"]],\"line\":{\"width\":2},\"reversescale\":true,\"showscale\":true,\"size\":10},\"mode\":\"markers\",\"text\":[\"# of connections: 5\",\"# of connections: 2\",\"# of connections: 2\",\"# of connections: 5\",\"# of connections: 1\",\"# of connections: 4\",\"# of connections: 2\",\"# of connections: 4\",\"# of connections: 5\",\"# of connections: 3\",\"# of connections: 4\",\"# of connections: 4\",\"# of connections: 4\",\"# of connections: 4\",\"# of connections: 4\",\"# of connections: 5\",\"# of connections: 3\",\"# of connections: 6\",\"# of connections: 3\",\"# of connections: 5\",\"# of connections: 2\",\"# of connections: 5\",\"# of connections: 1\",\"# of connections: 6\",\"# of connections: 5\"],\"x\":[0.680893097336292,0.5388984860907969,0.09555991349567017,0.6509181068008552,0.4641690140319612,0.07337624961026012,0.529307180924526,0.1374385732208161,0.676918167376344,0.11478257730072261,0.8925723561239908,0.9168181343156431,0.9004981971629004,0.80917927773198,0.9570980520369538,0.7106652735491479,0.9614941322535655,0.8021956435811151,0.2728665566681041,0.6813744795901913,0.7416608278216819,0.8619657591913444,0.3613781851768705,0.9570475973202661,0.7779955810146476],\"y\":[0.8346062075315306,0.78265498336824,0.6316734355745174,0.5522404245000658,0.2717464325256401,0.7843301315090625,0.9380144827589986,0.7868851422151362,0.46305822710062106,0.9801722859065438,0.29788906192406905,0.9774235606837954,0.9953737757082962,0.16371254422502857,0.9809822474603815,0.33507829410802914,0.11415206214178675,0.6196237164326036,0.9295941218091944,0.40555851502270324,0.043357576698964895,0.9262931853964207,0.4040605331556407,0.7696162094379153,0.6562828425907077],\"type\":\"scatter\"}],                        {\"annotations\":[{\"showarrow\":false,\"x\":0.005,\"xref\":\"paper\",\"y\":-0.002,\"yref\":\"paper\"}],\"hovermode\":\"closest\",\"margin\":{\"b\":20,\"l\":5,\"r\":5,\"t\":40},\"showlegend\":false,\"title\":{\"font\":{\"size\":16},\"text\":\"<br>Network graph made with Python\"},\"xaxis\":{\"showgrid\":false,\"showticklabels\":false,\"zeroline\":false},\"yaxis\":{\"showgrid\":false,\"showticklabels\":false,\"zeroline\":false},\"template\":{\"data\":{\"histogram2dcontour\":[{\"type\":\"histogram2dcontour\",\"colorbar\":{\"outlinewidth\":0,\"ticks\":\"\"},\"colorscale\":[[0.0,\"#0d0887\"],[0.1111111111111111,\"#46039f\"],[0.2222222222222222,\"#7201a8\"],[0.3333333333333333,\"#9c179e\"],[0.4444444444444444,\"#bd3786\"],[0.5555555555555556,\"#d8576b\"],[0.6666666666666666,\"#ed7953\"],[0.7777777777777778,\"#fb9f3a\"],[0.8888888888888888,\"#fdca26\"],[1.0,\"#f0f921\"]]}],\"choropleth\":[{\"type\":\"choropleth\",\"colorbar\":{\"outlinewidth\":0,\"ticks\":\"\"}}],\"histogram2d\":[{\"type\":\"histogram2d\",\"colorbar\":{\"outlinewidth\":0,\"ticks\":\"\"},\"colorscale\":[[0.0,\"#0d0887\"],[0.1111111111111111,\"#46039f\"],[0.2222222222222222,\"#7201a8\"],[0.3333333333333333,\"#9c179e\"],[0.4444444444444444,\"#bd3786\"],[0.5555555555555556,\"#d8576b\"],[0.6666666666666666,\"#ed7953\"],[0.7777777777777778,\"#fb9f3a\"],[0.8888888888888888,\"#fdca26\"],[1.0,\"#f0f921\"]]}],\"heatmap\":[{\"type\":\"heatmap\",\"colorbar\":{\"outlinewidth\":0,\"ticks\":\"\"},\"colorscale\":[[0.0,\"#0d0887\"],[0.1111111111111111,\"#46039f\"],[0.2222222222222222,\"#7201a8\"],[0.3333333333333333,\"#9c179e\"],[0.4444444444444444,\"#bd3786\"],[0.5555555555555556,\"#d8576b\"],[0.6666666666666666,\"#ed7953\"],[0.7777777777777778,\"#fb9f3a\"],[0.8888888888888888,\"#fdca26\"],[1.0,\"#f0f921\"]]}],\"heatmapgl\":[{\"type\":\"heatmapgl\",\"colorbar\":{\"outlinewidth\":0,\"ticks\":\"\"},\"colorscale\":[[0.0,\"#0d0887\"],[0.1111111111111111,\"#46039f\"],[0.2222222222222222,\"#7201a8\"],[0.3333333333333333,\"#9c179e\"],[0.4444444444444444,\"#bd3786\"],[0.5555555555555556,\"#d8576b\"],[0.6666666666666666,\"#ed7953\"],[0.7777777777777778,\"#fb9f3a\"],[0.8888888888888888,\"#fdca26\"],[1.0,\"#f0f921\"]]}],\"contourcarpet\":[{\"type\":\"contourcarpet\",\"colorbar\":{\"outlinewidth\":0,\"ticks\":\"\"}}],\"contour\":[{\"type\":\"contour\",\"colorbar\":{\"outlinewidth\":0,\"ticks\":\"\"},\"colorscale\":[[0.0,\"#0d0887\"],[0.1111111111111111,\"#46039f\"],[0.2222222222222222,\"#7201a8\"],[0.3333333333333333,\"#9c179e\"],[0.4444444444444444,\"#bd3786\"],[0.5555555555555556,\"#d8576b\"],[0.6666666666666666,\"#ed7953\"],[0.7777777777777778,\"#fb9f3a\"],[0.8888888888888888,\"#fdca26\"],[1.0,\"#f0f921\"]]}],\"surface\":[{\"type\":\"surface\",\"colorbar\":{\"outlinewidth\":0,\"ticks\":\"\"},\"colorscale\":[[0.0,\"#0d0887\"],[0.1111111111111111,\"#46039f\"],[0.2222222222222222,\"#7201a8\"],[0.3333333333333333,\"#9c179e\"],[0.4444444444444444,\"#bd3786\"],[0.5555555555555556,\"#d8576b\"],[0.6666666666666666,\"#ed7953\"],[0.7777777777777778,\"#fb9f3a\"],[0.8888888888888888,\"#fdca26\"],[1.0,\"#f0f921\"]]}],\"mesh3d\":[{\"type\":\"mesh3d\",\"colorbar\":{\"outlinewidth\":0,\"ticks\":\"\"}}],\"scatter\":[{\"fillpattern\":{\"fillmode\":\"overlay\",\"size\":10,\"solidity\":0.2},\"type\":\"scatter\"}],\"parcoords\":[{\"type\":\"parcoords\",\"line\":{\"colorbar\":{\"outlinewidth\":0,\"ticks\":\"\"}}}],\"scatterpolargl\":[{\"type\":\"scatterpolargl\",\"marker\":{\"colorbar\":{\"outlinewidth\":0,\"ticks\":\"\"}}}],\"bar\":[{\"error_x\":{\"color\":\"#2a3f5f\"},\"error_y\":{\"color\":\"#2a3f5f\"},\"marker\":{\"line\":{\"color\":\"#E5ECF6\",\"width\":0.5},\"pattern\":{\"fillmode\":\"overlay\",\"size\":10,\"solidity\":0.2}},\"type\":\"bar\"}],\"scattergeo\":[{\"type\":\"scattergeo\",\"marker\":{\"colorbar\":{\"outlinewidth\":0,\"ticks\":\"\"}}}],\"scatterpolar\":[{\"type\":\"scatterpolar\",\"marker\":{\"colorbar\":{\"outlinewidth\":0,\"ticks\":\"\"}}}],\"histogram\":[{\"marker\":{\"pattern\":{\"fillmode\":\"overlay\",\"size\":10,\"solidity\":0.2}},\"type\":\"histogram\"}],\"scattergl\":[{\"type\":\"scattergl\",\"marker\":{\"colorbar\":{\"outlinewidth\":0,\"ticks\":\"\"}}}],\"scatter3d\":[{\"type\":\"scatter3d\",\"line\":{\"colorbar\":{\"outlinewidth\":0,\"ticks\":\"\"}},\"marker\":{\"colorbar\":{\"outlinewidth\":0,\"ticks\":\"\"}}}],\"scattermapbox\":[{\"type\":\"scattermapbox\",\"marker\":{\"colorbar\":{\"outlinewidth\":0,\"ticks\":\"\"}}}],\"scatterternary\":[{\"type\":\"scatterternary\",\"marker\":{\"colorbar\":{\"outlinewidth\":0,\"ticks\":\"\"}}}],\"scattercarpet\":[{\"type\":\"scattercarpet\",\"marker\":{\"colorbar\":{\"outlinewidth\":0,\"ticks\":\"\"}}}],\"carpet\":[{\"aaxis\":{\"endlinecolor\":\"#2a3f5f\",\"gridcolor\":\"white\",\"linecolor\":\"white\",\"minorgridcolor\":\"white\",\"startlinecolor\":\"#2a3f5f\"},\"baxis\":{\"endlinecolor\":\"#2a3f5f\",\"gridcolor\":\"white\",\"linecolor\":\"white\",\"minorgridcolor\":\"white\",\"startlinecolor\":\"#2a3f5f\"},\"type\":\"carpet\"}],\"table\":[{\"cells\":{\"fill\":{\"color\":\"#EBF0F8\"},\"line\":{\"color\":\"white\"}},\"header\":{\"fill\":{\"color\":\"#C8D4E3\"},\"line\":{\"color\":\"white\"}},\"type\":\"table\"}],\"barpolar\":[{\"marker\":{\"line\":{\"color\":\"#E5ECF6\",\"width\":0.5},\"pattern\":{\"fillmode\":\"overlay\",\"size\":10,\"solidity\":0.2}},\"type\":\"barpolar\"}],\"pie\":[{\"automargin\":true,\"type\":\"pie\"}]},\"layout\":{\"autotypenumbers\":\"strict\",\"colorway\":[\"#636efa\",\"#EF553B\",\"#00cc96\",\"#ab63fa\",\"#FFA15A\",\"#19d3f3\",\"#FF6692\",\"#B6E880\",\"#FF97FF\",\"#FECB52\"],\"font\":{\"color\":\"#2a3f5f\"},\"hovermode\":\"closest\",\"hoverlabel\":{\"align\":\"left\"},\"paper_bgcolor\":\"white\",\"plot_bgcolor\":\"#E5ECF6\",\"polar\":{\"bgcolor\":\"#E5ECF6\",\"angularaxis\":{\"gridcolor\":\"white\",\"linecolor\":\"white\",\"ticks\":\"\"},\"radialaxis\":{\"gridcolor\":\"white\",\"linecolor\":\"white\",\"ticks\":\"\"}},\"ternary\":{\"bgcolor\":\"#E5ECF6\",\"aaxis\":{\"gridcolor\":\"white\",\"linecolor\":\"white\",\"ticks\":\"\"},\"baxis\":{\"gridcolor\":\"white\",\"linecolor\":\"white\",\"ticks\":\"\"},\"caxis\":{\"gridcolor\":\"white\",\"linecolor\":\"white\",\"ticks\":\"\"}},\"coloraxis\":{\"colorbar\":{\"outlinewidth\":0,\"ticks\":\"\"}},\"colorscale\":{\"sequential\":[[0.0,\"#0d0887\"],[0.1111111111111111,\"#46039f\"],[0.2222222222222222,\"#7201a8\"],[0.3333333333333333,\"#9c179e\"],[0.4444444444444444,\"#bd3786\"],[0.5555555555555556,\"#d8576b\"],[0.6666666666666666,\"#ed7953\"],[0.7777777777777778,\"#fb9f3a\"],[0.8888888888888888,\"#fdca26\"],[1.0,\"#f0f921\"]],\"sequentialminus\":[[0.0,\"#0d0887\"],[0.1111111111111111,\"#46039f\"],[0.2222222222222222,\"#7201a8\"],[0.3333333333333333,\"#9c179e\"],[0.4444444444444444,\"#bd3786\"],[0.5555555555555556,\"#d8576b\"],[0.6666666666666666,\"#ed7953\"],[0.7777777777777778,\"#fb9f3a\"],[0.8888888888888888,\"#fdca26\"],[1.0,\"#f0f921\"]],\"diverging\":[[0,\"#8e0152\"],[0.1,\"#c51b7d\"],[0.2,\"#de77ae\"],[0.3,\"#f1b6da\"],[0.4,\"#fde0ef\"],[0.5,\"#f7f7f7\"],[0.6,\"#e6f5d0\"],[0.7,\"#b8e186\"],[0.8,\"#7fbc41\"],[0.9,\"#4d9221\"],[1,\"#276419\"]]},\"xaxis\":{\"gridcolor\":\"white\",\"linecolor\":\"white\",\"ticks\":\"\",\"title\":{\"standoff\":15},\"zerolinecolor\":\"white\",\"automargin\":true,\"zerolinewidth\":2},\"yaxis\":{\"gridcolor\":\"white\",\"linecolor\":\"white\",\"ticks\":\"\",\"title\":{\"standoff\":15},\"zerolinecolor\":\"white\",\"automargin\":true,\"zerolinewidth\":2},\"scene\":{\"xaxis\":{\"backgroundcolor\":\"#E5ECF6\",\"gridcolor\":\"white\",\"linecolor\":\"white\",\"showbackground\":true,\"ticks\":\"\",\"zerolinecolor\":\"white\",\"gridwidth\":2},\"yaxis\":{\"backgroundcolor\":\"#E5ECF6\",\"gridcolor\":\"white\",\"linecolor\":\"white\",\"showbackground\":true,\"ticks\":\"\",\"zerolinecolor\":\"white\",\"gridwidth\":2},\"zaxis\":{\"backgroundcolor\":\"#E5ECF6\",\"gridcolor\":\"white\",\"linecolor\":\"white\",\"showbackground\":true,\"ticks\":\"\",\"zerolinecolor\":\"white\",\"gridwidth\":2}},\"shapedefaults\":{\"line\":{\"color\":\"#2a3f5f\"}},\"annotationdefaults\":{\"arrowcolor\":\"#2a3f5f\",\"arrowhead\":0,\"arrowwidth\":1},\"geo\":{\"bgcolor\":\"white\",\"landcolor\":\"#E5ECF6\",\"subunitcolor\":\"white\",\"showland\":true,\"showlakes\":true,\"lakecolor\":\"white\"},\"title\":{\"x\":0.05},\"mapbox\":{\"style\":\"light\"}}}},                        {\"responsive\": true}                    ).then(function(){\n",
       "                            \n",
       "var gd = document.getElementById('886487e6-00ec-4309-b7f8-a3ba53b41829');\n",
       "var x = new MutationObserver(function (mutations, observer) {{\n",
       "        var display = window.getComputedStyle(gd).display;\n",
       "        if (!display || display === 'none') {{\n",
       "            console.log([gd, 'removed!']);\n",
       "            Plotly.purge(gd);\n",
       "            observer.disconnect();\n",
       "        }}\n",
       "}});\n",
       "\n",
       "// Listen for the removal of the full notebook cells\n",
       "var notebookContainer = gd.closest('#notebook-container');\n",
       "if (notebookContainer) {{\n",
       "    x.observe(notebookContainer, {childList: true});\n",
       "}}\n",
       "\n",
       "// Listen for the clearing of the current output cell\n",
       "var outputEl = gd.closest('.output');\n",
       "if (outputEl) {{\n",
       "    x.observe(outputEl, {childList: true});\n",
       "}}\n",
       "\n",
       "                        })                };                });            </script>        </div>"
      ]
     },
     "metadata": {},
     "output_type": "display_data"
    }
   ],
   "source": [
    "numnodes = int(input(\"How many nodes would you like in this graph?: \"))\n",
    "createRandomNodeGraph(numnodes)"
   ]
  },
  {
   "cell_type": "code",
   "execution_count": null,
   "id": "b1bda478",
   "metadata": {},
   "outputs": [],
   "source": []
  },
  {
   "cell_type": "code",
   "execution_count": null,
   "id": "33c463d6",
   "metadata": {},
   "outputs": [],
   "source": []
  }
 ],
 "metadata": {
  "kernelspec": {
   "display_name": "Python 3 (ipykernel)",
   "language": "python",
   "name": "python3"
  },
  "language_info": {
   "codemirror_mode": {
    "name": "ipython",
    "version": 3
   },
   "file_extension": ".py",
   "mimetype": "text/x-python",
   "name": "python",
   "nbconvert_exporter": "python",
   "pygments_lexer": "ipython3",
   "version": "3.9.13"
  }
 },
 "nbformat": 4,
 "nbformat_minor": 5
}
